{
 "cells": [
  {
   "cell_type": "markdown",
   "id": "475bf173",
   "metadata": {
    "id": "475bf173",
    "pycharm": {
     "name": "#%% md\n"
    }
   },
   "source": [
    "#  Ejercicio tipo examen"
   ]
  },
  {
   "cell_type": "markdown",
   "id": "4da8c02b",
   "metadata": {
    "id": "4da8c02b",
    "pycharm": {
     "name": "#%% md\n"
    }
   },
   "source": [
    "### Ecuaciones de predador-presa (o Lotka–Volterra)"
   ]
  },
  {
   "cell_type": "markdown",
   "id": "fc434d87",
   "metadata": {
    "id": "fc434d87",
    "pycharm": {
     "name": "#%% md\n"
    }
   },
   "source": [
    "Las ecuaciones de **predador-presa** son un sistema de dos ecuaciones diferenciales  que se usan para describir dinámicas de sistemas biológicos en el que dos especies interactúan, una como presa y otra como depredador. Este sistema está dado explícitamente como sigue:\n",
    "\n",
    "\\begin{eqnarray}\n",
    "\\frac{dx}{dt}  &=& a\\, x - b\\, x\\,y  \\\\\n",
    "\\frac{dy}{dt} &=&-c\\, y + d\\, x\\, y,  \\\\\n",
    "\\end{eqnarray}\n",
    "\n",
    "donde las variables del sistema tienen el siguiente significado:\n",
    "\n",
    "- $t$ es el tiempo de observación del sistema.\n",
    "- $x$ es el número de presas .\n",
    "- $y$ es el número de  predadores.\n",
    "\n",
    "Los parámetros o coeficientes del sistema son :\n",
    "\n",
    "- $a$ es la razón de crecimiento de la presa por unidad de tiempo.\n",
    "\n",
    "- $b$ es el efecto de la interacción predador-presa sobre la muerte de la presa por unidad de tiempo.\n",
    "\n",
    "- $c$ es la razón de muerte del depredador por unidad de tiempo.\n",
    "\n",
    "- $d$ es el efecto de la interacción predador-presa sobre el crecimiento del predador por unidad de tiempo.\n",
    "\n"
   ]
  },
  {
   "cell_type": "markdown",
   "id": "e8e51c8d",
   "metadata": {
    "id": "e8e51c8d",
    "pycharm": {
     "name": "#%% md\n"
    }
   },
   "source": [
    "**Este sistema posee las siguientes características:**\n",
    "\n",
    "\n",
    "- Es un sistema de dos ecuaciones diferenciales **acopladas**: las funciones $x$ y $y$ estan presentes en las dos ecuaciones.\n",
    "\n",
    "\n",
    "- Las ecuaciones diferenciales son de **primer orden**: la máxima derivada de las funciones $x$ y $y$ es de primer orden.\n",
    "\n",
    "\n",
    "- Las ecuaciones diferenciales son **no lineales**: El término $xy$ en ambas ecuaciones causa la no linealidad de las ecuaciones. Esto hace que pueda haber inestabilidades.\n",
    "\n"
   ]
  },
  {
   "cell_type": "markdown",
   "id": "6be1c775",
   "metadata": {
    "id": "6be1c775",
    "pycharm": {
     "name": "#%% md\n"
    }
   },
   "source": [
    "### Ejercicio"
   ]
  },
  {
   "cell_type": "markdown",
   "id": "80e7e83e",
   "metadata": {
    "id": "80e7e83e",
    "pycharm": {
     "name": "#%% md\n"
    }
   },
   "source": [
    "Suponga que se tiene en cierta región aislada una población de conejos (presas) y de lobos (predadores) tales que :\n",
    "\n",
    "- La tasa de crecimiento de la población de los conejos es de 0.7 individuos por unidad de tiempo. \n",
    "- La tasa de muerte de los conejos es de 0.3 individuos por unidad de tiempo. \n",
    "- La tasa de decrecimiento de la población de lobos es 0.8 por unidad de tiempo.\n",
    "- La tasa de crecimiento de los lobos es de 0.25 individuos por unidad de tiempo.\n",
    "\n",
    "Con la información anterior resuelva las siguientes preguntas:"
   ]
  },
  {
   "cell_type": "markdown",
   "id": "c4785c92",
   "metadata": {
    "id": "c4785c92",
    "pycharm": {
     "name": "#%% md\n"
    }
   },
   "source": [
    "- Encuentre el campo de velocidades con eje horizontal  representando la población de conejos y el eje vertical la población de lobos. Varíe ambos ejes entre  valores de  $[0.1, 8.0]$.\n",
    "\n",
    "\n",
    "- Usando el campo de velocidades determine si existe algún punto de equilibrio o punto de silla. ¿Existen trayectorias cerradas? En caso afirmativo, explique si esto tiene algo que ver con el equilibrio poblacional entre las dos especies.\n",
    "\n",
    "\n",
    "- Suponga que inicialmente se tiene una población de  6 conejos y 2 lobos. Resuelva el sistema de ecuaciones usando el método de Adams entre $t_0=0$ y $t_f=20$, con intervalos de tiempo $dt=0.01$.\n",
    "\n",
    "\n",
    "- Basado en el punto anterior, estime el número máximo y mínimo que puede alcanzar la población de lobos. Estime cada cuanto tiempo la población de lobos alcanza su máximo."
   ]
  },
  {
   "cell_type": "code",
   "source": [
    "import numpy as np\n",
    "import matplotlib.pyplot as plt \n",
    "\n",
    "# Se definen los parametros inciales\n",
    "a = 0.7\n",
    "b = 0.3\n",
    "c = 0.8\n",
    "d = 0.25\n",
    "\n",
    "dt = 0.1 # Y se define el tamaño de paso\n",
    "\n",
    "\n",
    "# Se crean y definen las 3 ecuaciones dadas en el modelo\n",
    "\n",
    "def Fx(x, y):\n",
    "  global a, b, c, d\n",
    "  return a*x - b*x*y\n",
    "\n",
    "def Fy(x, y):\n",
    "  global a, b, c, d\n",
    "  return -1 * c*y + d*x*y"
   ],
   "metadata": {
    "id": "Aj2AU1VPpTa1",
    "pycharm": {
     "name": "#%%\n"
    }
   },
   "id": "Aj2AU1VPpTa1",
   "execution_count": null,
   "outputs": []
  },
  {
   "cell_type": "code",
   "source": [
    "xi, xf = 0.1, 8\n",
    "yi, yf = 0.1, 8 #Se ajusta el rango de las variables segun lo pide el problema\n",
    "\n",
    "N = 10\n",
    "\n",
    "x, y = np.arange(xi,xf,dt), np.arange(yi,yf,dt)\n",
    "\n",
    "x1 = np.zeros(len(x))\n",
    "y1 = np.zeros(len(y))\n"
   ],
   "metadata": {
    "id": "u-S2OU-aaKSN",
    "pycharm": {
     "name": "#%%\n"
    }
   },
   "id": "u-S2OU-aaKSN",
   "execution_count": null,
   "outputs": []
  },
  {
   "cell_type": "code",
   "source": [
    "for i in range(1, len(x) - 1): #Se aplica el metodo de Adams\n",
    "  x1[i+1] = x1[i] + (dt/2) * (3 * Fx(x1[i], y1[i]) - Fx(x1[i-1], y1[i-1]))\n",
    "  y1[i+1] = y1[i] + (dt/2) * (3 * Fy(x1[i], y1[i]) - Fy(x1[i-1], y1[i-1])) "
   ],
   "metadata": {
    "id": "1l17XAoIbh5Q",
    "pycharm": {
     "name": "#%%\n"
    }
   },
   "id": "1l17XAoIbh5Q",
   "execution_count": null,
   "outputs": []
  },
  {
   "cell_type": "code",
   "source": [
    "N = 30\n",
    "\n",
    "x, y = np.linspace(xi,xf,N), np.linspace(yi,yf,N)\n",
    "\n",
    "X, Y = np.meshgrid(x,y)"
   ],
   "metadata": {
    "id": "HPnIhzM-b5LT",
    "pycharm": {
     "name": "#%%\n"
    }
   },
   "id": "HPnIhzM-b5LT",
   "execution_count": null,
   "outputs": []
  },
  {
   "cell_type": "code",
   "source": [
    "# Vectores de la maya\n",
    "V = np.ones((2,N,N))\n",
    "\n",
    "Vx = Fx(X, Y)\n",
    "Vy = Fy(X, Y)\n",
    "\n",
    "V[0] = Vx\n",
    "V[1] = Vy\n",
    "\n",
    "Norm = np.sqrt(V[0]**2 + V[1]**2)\n",
    "\n",
    "U = np.ones_like(V)\n",
    "U[0] = V[0]/Norm\n",
    "U[1] = V[1]/Norm"
   ],
   "metadata": {
    "id": "sFl0pGDBdFtE",
    "pycharm": {
     "name": "#%%\n"
    }
   },
   "id": "sFl0pGDBdFtE",
   "execution_count": null,
   "outputs": []
  },
  {
   "cell_type": "code",
   "source": [
    "#Graficando\n",
    "\n",
    "plt.quiver(X,Y,U[0],U[1])\n",
    "\n",
    "plt.xlabel(\"presa\")\n",
    "plt.ylabel(\"predador\")\n",
    "plt.title(\"Campo de velocidades\")\n",
    "plt.rcParams['figure.figsize'] = [10, 10]\n",
    "plt.show()"
   ],
   "metadata": {
    "colab": {
     "base_uri": "https://localhost:8080/",
     "height": 295
    },
    "id": "_Ir7XYLtdV49",
    "outputId": "a4666fc3-7460-4f81-d920-74946e9fd627",
    "pycharm": {
     "name": "#%%\n"
    }
   },
   "id": "_Ir7XYLtdV49",
   "execution_count": null,
   "outputs": []
  },
  {
   "cell_type": "markdown",
   "source": [],
   "metadata": {
    "id": "2-lg5E-Hkziw",
    "pycharm": {
     "name": "#%% md\n"
    }
   },
   "id": "2-lg5E-Hkziw"
  },
  {
   "cell_type": "code",
   "source": [
    "# se define el rango de tiempo pedido\n",
    "\n",
    "t0 = 0\n",
    "tf = 20\n",
    "dt = 0.01 #Se define un nuevo dt que nos dan en el enunciado\n",
    "\n",
    "t  = np.arange(t0, tf, dt) # Se establece la lista de tiempo sobre la que se trabajara \n",
    "\n",
    "# se establecen los datos iniciales que nos piden analizar\n",
    "X0 = 6\n",
    "Y0 = 2\n",
    "\n",
    "x1 = np.zeros(len(t))\n",
    "y1 = np.zeros(len(t))\n",
    "\n",
    "x1[0] = X0  # Se establencen los datos iniciales ya definidos\n",
    "y1[0] = Y0\n",
    "\n",
    "x1[1] = x1[0] + dt * Fx(x1[0], y1[0])\n",
    "y1[1] = y1[0] + dt * Fx(x1[0], y1[0])\n",
    "\n",
    "for i in range(1, len(t) - 1): #Se aplica el metodo de Adams\n",
    "  x1[i+1] = x1[i] + (dt/2) * (3 * Fx(x1[i], y1[i]) - Fx(x1[i-1], y1[i-1]))\n",
    "  y1[i+1] = y1[i] + (dt/2) * (3 * Fy(x1[i], y1[i]) - Fy(x1[i-1], y1[i-1])) "
   ],
   "metadata": {
    "id": "BABXHY-1kSVj",
    "pycharm": {
     "name": "#%%\n"
    }
   },
   "id": "BABXHY-1kSVj",
   "execution_count": null,
   "outputs": []
  },
  {
   "cell_type": "code",
   "source": [
    "# Se pintan las graficas de comportamiento para cada poblacion\n",
    "plt.plot(t, x1, '-r', label ='X - Presaas')\n",
    "plt.plot(t, y1, '-b', label ='Y - Predador')\n",
    "plt.xlabel('tiempo')\n",
    "plt.ylabel('Poblacion')\n",
    "plt.grid()\n",
    "plt.legend()\n",
    "plt.rcParams['figure.figsize'] = [10,10]\n",
    "plt.show()"
   ],
   "metadata": {
    "colab": {
     "base_uri": "https://localhost:8080/",
     "height": 606
    },
    "id": "1Pk_p4wLkXAb",
    "outputId": "815b90a5-76d7-4d6f-aa7f-033b42254dbc",
    "pycharm": {
     "name": "#%%\n"
    }
   },
   "id": "1Pk_p4wLkXAb",
   "execution_count": null,
   "outputs": []
  },
  {
   "cell_type": "code",
   "source": [
    "from numpy.lib.function_base import append\n",
    "Maxlobos = 0\n",
    "\n",
    "tmax = t[max(y1)]\n",
    "\n",
    "for i in range(0, len(y1) - 1):\n",
    "  if y1[i] == max(y1):\n",
    "    Maxlobos = t[i]\n",
    "    break\n",
    "\n",
    "Maxloboslocal = []\n",
    "\n",
    "for i in range(0, len(y1) - 1):\n",
    "  if y1[i] > y1[i-1] and y1[i] > y1[i+1]:\n",
    "    Maxloboslocal.append(i)\n",
    "    continue\n",
    "Maxloboslocal = np.array(Maxloboslocal)\n",
    "\n",
    "\n",
    "ciclos=[t[Maxloboslocal[1]]-t[Maxloboslocal[0]], t[Maxloboslocal[2]]-t[Maxloboslocal[1]]]\n",
    "\n",
    "ciclo = np.mean(ciclos)\n",
    "\n",
    "print('cada', ciclo, 'se repite el maximo de lobos')\n",
    "\n",
    "for i in range(0, len(y1) - 1):\n",
    "  if y1[i] == min(y1):\n",
    "    Minlobos = t[i]\n",
    "    break\n",
    "\n",
    "N=10\n",
    "\n",
    "# 1 Respuesta\n",
    "print(\"La cantidad maxima de lobos que se consigue en el sistema son\", max(y1), 'en el momento', Maxlobos)\n",
    "\n",
    "# 2 Respuesta\n",
    "print(\"La cantidad minima de lobos que se consigue en el sistema son\", min(y1), 'en el momento', Minlobos)\n",
    "\n",
    "# Se pinta de nuevos las graficas mostrando el dia maximo de infectados\n",
    "plt.plot(t, y1, '-b', label ='Y - Predador')\n",
    "plt.plot([t0, tf], [max(y1), max(y1)])\n",
    "plt.plot([Maxlobos, Maxlobos], [0, N])\n",
    "plt.plot([Maxlobos], [max(y1)], \"ob\")\n",
    "\n",
    "\n",
    "plt.plot([t0, tf], [min(y1), min(y1)])\n",
    "plt.plot([Minlobos, Minlobos], [0, N])\n",
    "plt.plot([Minlobos], [min(y1)], \"ob\")\n",
    "\n",
    "plt.xlabel('Tiempo')\n",
    "plt.ylabel('Poblacion')\n",
    "plt.grid()\n",
    "plt.legend()\n",
    "plt.show()"
   ],
   "metadata": {
    "colab": {
     "base_uri": "https://localhost:8080/",
     "height": 661
    },
    "id": "siMUCvEEoZbI",
    "outputId": "c57f2700-d6db-41a2-ed6d-4387116b1c95",
    "pycharm": {
     "name": "#%%\n"
    }
   },
   "id": "siMUCvEEoZbI",
   "execution_count": null,
   "outputs": []
  },
  {
   "cell_type": "markdown",
   "source": [],
   "metadata": {
    "id": "6yZzgYpkqNFP",
    "pycharm": {
     "name": "#%% md\n"
    }
   },
   "id": "6yZzgYpkqNFP"
  },
  {
   "cell_type": "code",
   "source": [],
   "metadata": {
    "id": "NIwD03gBqNXd",
    "pycharm": {
     "name": "#%%\n"
    }
   },
   "id": "NIwD03gBqNXd",
   "execution_count": null,
   "outputs": []
  }
 ],
 "metadata": {
  "kernelspec": {
   "display_name": "Python 3",
   "language": "python",
   "name": "python3"
  },
  "language_info": {
   "codemirror_mode": {
    "name": "ipython",
    "version": 3
   },
   "file_extension": ".py",
   "mimetype": "text/x-python",
   "name": "python",
   "nbconvert_exporter": "python",
   "pygments_lexer": "ipython3",
   "version": "3.8.8"
  },
  "colab": {
   "name": "Copia de Taller14.ipynb",
   "provenance": [],
   "collapsed_sections": []
  }
 },
 "nbformat": 4,
 "nbformat_minor": 5
}