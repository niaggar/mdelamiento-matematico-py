{
 "cells": [
  {
   "cell_type": "markdown",
   "metadata": {},
   "source": [
    "## Actividad\n",
    "\n",
    "Realice un programa que verifique si un cierto número entero dado es o no primo. También debe de hacer el respectivo diagrama de flujo del programa."
   ]
  },
  {
   "cell_type": "code",
   "execution_count": null,
   "metadata": {},
   "outputs": [],
   "source": [
    "a = int(input(\"Numero a comprobar: \"))\n",
    "\n",
    "divisores = []\n",
    "for i in range(1, a + 1):\n",
    "    modulo = a % i\n",
    "    if (modulo == 0):\n",
    "        divisores.append(i)\n",
    "\n",
    "if (len(divisores) == 2):\n",
    "    print(f\"{a} es un numero primo\")\n",
    "else:\n",
    "    print(f\"{a} no es primo, tiene divisores: {divisores}\")"
   ]
  }
 ],
 "metadata": {
  "language_info": {
   "name": "python"
  },
  "orig_nbformat": 4
 },
 "nbformat": 4,
 "nbformat_minor": 2
}
