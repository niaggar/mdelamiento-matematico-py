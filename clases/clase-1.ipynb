{
 "nbformat": 4,
 "nbformat_minor": 0,
 "metadata": {
  "colab": {
   "name": "clase-1.ipynb",
   "provenance": [],
   "authorship_tag": "ABX9TyNivJxiSm3TJX8V2PlvFdPc"
  },
  "kernelspec": {
   "name": "python3",
   "display_name": "Python 3"
  },
  "language_info": {
   "name": "python"
  }
 },
 "cells": [
  {
   "cell_type": "markdown",
   "source": [
    "# Introducción\n",
    "\n",
    "Profesor Leon Escobar"
   ],
   "metadata": {
    "id": "V-IxOP1o10l1",
    "pycharm": {
     "name": "#%% md\n"
    }
   }
  },
  {
   "cell_type": "markdown",
   "source": [
    "## Que es una función\n",
    "\n",
    "A diferencia de matemáticas, donde las funciones relacionan conjuntos, en programación las funciones son polimorficas ya que pueden recibir como argumentos cualquier tipo de dato (esto incluye funciones) y devolver (o no) cualquier valor.\n",
    "\n",
    "```\n",
    "nombre_funcion( ...ARGUMENTOS )\n",
    "```\n",
    "\n",
    "Tiene una apertura de parentesis por donde se pasan los argumentos. \n",
    "\n",
    "Dentro de las funciones que pueden encontrarse estan las definidas por el programador y las que ya estan incluidas en el programa, de estas algunas iportantes son:\n",
    "\n",
    "```\n",
    "print()\n",
    "\n",
    "type()\n",
    "```"
   ],
   "metadata": {
    "id": "jEYbXpAG18k3",
    "pycharm": {
     "name": "#%% md\n"
    }
   }
  },
  {
   "cell_type": "code",
   "source": [
    "print(\"hola mundo\")\n",
    "\n",
    "type(2)"
   ],
   "metadata": {
    "colab": {
     "base_uri": "https://localhost:8080/"
    },
    "id": "nLkE3qRv4dci",
    "executionInfo": {
     "status": "ok",
     "timestamp": 1650372777300,
     "user_tz": 300,
     "elapsed": 179,
     "user": {
      "displayName": "NICOLAS AGUILERA GARCIA",
      "userId": "17651798345598548739"
     }
    },
    "outputId": "7c369279-2251-41d6-83eb-a6aba6215af9",
    "pycharm": {
     "name": "#%%\n"
    }
   },
   "execution_count": 1,
   "outputs": [
    {
     "name": "stdout",
     "output_type": "stream",
     "text": [
      "hola mundo\n"
     ]
    },
    {
     "data": {
      "text/plain": "int"
     },
     "execution_count": 1,
     "metadata": {},
     "output_type": "execute_result"
    }
   ]
  },
  {
   "cell_type": "markdown",
   "source": [
    "## Tipos de datos\n",
    "\n",
    "En programacion existen diferentes tipos de datos, cada uno con sus propias cualidades y momentos de uso. Dentro de los tipos que tiene python durante el curso se va a dar uso de los siguientes:\n",
    "\n",
    "```\n",
    "int     ->  Enteros\n",
    "\n",
    "float   ->  Real\n",
    "\n",
    "str     ->  Texto\n",
    "\n",
    "list    ->  Listas\n",
    "\n",
    "bool    ->  Booleanos\n",
    "```\n",
    "\n",
    "En python el uso de estos tipos se realiza de forma automatica al realizar la asignacion de un valor en una variable.\n",
    "\n",
    "```\n",
    "nombre_variable = valor_variable\n",
    "```"
   ],
   "metadata": {
    "id": "Qwgjk3DV2Vd7",
    "pycharm": {
     "name": "#%% md\n"
    }
   }
  },
  {
   "cell_type": "code",
   "source": [
    "a = 1\n",
    "b = 1.1\n",
    "c = \"a\"\n",
    "d = [1, 2]\n",
    "e = True"
   ],
   "metadata": {
    "id": "bVsBe3um5Q8T",
    "executionInfo": {
     "status": "ok",
     "timestamp": 1650374763583,
     "user_tz": 300,
     "elapsed": 205,
     "user": {
      "displayName": "NICOLAS AGUILERA GARCIA",
      "userId": "17651798345598548739"
     }
    },
    "pycharm": {
     "name": "#%%\n"
    }
   },
   "execution_count": 2,
   "outputs": []
  },
  {
   "cell_type": "code",
   "source": [
    "type(a)"
   ],
   "metadata": {
    "colab": {
     "base_uri": "https://localhost:8080/"
    },
    "id": "FmqFLurr58tu",
    "executionInfo": {
     "status": "ok",
     "timestamp": 1650374763777,
     "user_tz": 300,
     "elapsed": 12,
     "user": {
      "displayName": "NICOLAS AGUILERA GARCIA",
      "userId": "17651798345598548739"
     }
    },
    "outputId": "a6fe8912-2aa2-4127-c3a3-62a87765041f",
    "pycharm": {
     "name": "#%%\n"
    }
   },
   "execution_count": 3,
   "outputs": [
    {
     "data": {
      "text/plain": "int"
     },
     "execution_count": 3,
     "metadata": {},
     "output_type": "execute_result"
    }
   ]
  },
  {
   "cell_type": "code",
   "source": [
    "type(b)"
   ],
   "metadata": {
    "colab": {
     "base_uri": "https://localhost:8080/"
    },
    "id": "z8O6MwQ759dJ",
    "executionInfo": {
     "status": "ok",
     "timestamp": 1650374763778,
     "user_tz": 300,
     "elapsed": 10,
     "user": {
      "displayName": "NICOLAS AGUILERA GARCIA",
      "userId": "17651798345598548739"
     }
    },
    "outputId": "5eaee353-6d36-49d5-822b-6b1b33969bdc",
    "pycharm": {
     "name": "#%%\n"
    }
   },
   "execution_count": 4,
   "outputs": [
    {
     "data": {
      "text/plain": "float"
     },
     "execution_count": 4,
     "metadata": {},
     "output_type": "execute_result"
    }
   ]
  },
  {
   "cell_type": "code",
   "source": [
    "type(c)"
   ],
   "metadata": {
    "colab": {
     "base_uri": "https://localhost:8080/"
    },
    "id": "-br2UtHj566y",
    "executionInfo": {
     "status": "ok",
     "timestamp": 1650374763779,
     "user_tz": 300,
     "elapsed": 10,
     "user": {
      "displayName": "NICOLAS AGUILERA GARCIA",
      "userId": "17651798345598548739"
     }
    },
    "outputId": "6669da19-16e5-42e4-b491-44cfce99f293",
    "pycharm": {
     "name": "#%%\n"
    }
   },
   "execution_count": 5,
   "outputs": [
    {
     "data": {
      "text/plain": "str"
     },
     "execution_count": 5,
     "metadata": {},
     "output_type": "execute_result"
    }
   ]
  },
  {
   "cell_type": "code",
   "source": [
    "type(d)"
   ],
   "metadata": {
    "colab": {
     "base_uri": "https://localhost:8080/"
    },
    "id": "yiYF9jiY57bp",
    "executionInfo": {
     "status": "ok",
     "timestamp": 1650374763780,
     "user_tz": 300,
     "elapsed": 10,
     "user": {
      "displayName": "NICOLAS AGUILERA GARCIA",
      "userId": "17651798345598548739"
     }
    },
    "outputId": "25905808-1495-4a0c-b556-71d3f3cc55a5",
    "pycharm": {
     "name": "#%%\n"
    }
   },
   "execution_count": 6,
   "outputs": [
    {
     "data": {
      "text/plain": "list"
     },
     "execution_count": 6,
     "metadata": {},
     "output_type": "execute_result"
    }
   ]
  },
  {
   "cell_type": "code",
   "source": [
    "type(e)"
   ],
   "metadata": {
    "colab": {
     "base_uri": "https://localhost:8080/"
    },
    "id": "6MLkG-Xe6v5d",
    "executionInfo": {
     "status": "ok",
     "timestamp": 1650374763781,
     "user_tz": 300,
     "elapsed": 8,
     "user": {
      "displayName": "NICOLAS AGUILERA GARCIA",
      "userId": "17651798345598548739"
     }
    },
    "outputId": "0b927c96-b47a-4c26-fbfe-1583a638153f",
    "pycharm": {
     "name": "#%%\n"
    }
   },
   "execution_count": 7,
   "outputs": [
    {
     "data": {
      "text/plain": "bool"
     },
     "execution_count": 7,
     "metadata": {},
     "output_type": "execute_result"
    }
   ]
  },
  {
   "cell_type": "markdown",
   "source": [
    "## Operadores de verdad\n",
    "\n",
    "El tipo bool permite realizar operaciones de verdad para detrminar condiciones que como programador se declaren.\n",
    "\n",
    "```\n",
    "BOOL and BOOL\n",
    "BOOL or BOOL\n",
    "not BOOL\n",
    "```\n",
    "\n"
   ],
   "metadata": {
    "id": "fZKdKNe99aT2",
    "pycharm": {
     "name": "#%% md\n"
    }
   }
  },
  {
   "cell_type": "markdown",
   "source": [
    "## Manejo de listas\n",
    "\n",
    "Una lista es un arreglo ordenado de elementos, estos seran indexados automaticamente iniciando por 0 y terminando en el elemento n - 1 donde n es la longitud del arreglo.\n",
    "\n",
    "```\n",
    "nombre_lista = [ ...ELEMENTOS ]\n",
    "```\n",
    "\n",
    "Las listas pueden o no contener elementos, y con ellas se pueden realizar operaciones como la concatenacion.\n"
   ],
   "metadata": {
    "id": "ll-i82s0BK2M",
    "pycharm": {
     "name": "#%% md\n"
    }
   }
  },
  {
   "cell_type": "markdown",
   "source": [
    "## Estructuras condicionales\n",
    "\n",
    "Son estructura muy importantes en la programacion, estas permiten, mediante la utilización de valore bool, tomar decisiones durante la ejecucion del programa, dotando a la maquina de una aparente inteligencia.\n",
    "\n",
    "```\n",
    "if CONDICION:\n",
    "  ...BLOQUE DE CODIGO 1\n",
    "\n",
    "else:\n",
    "  ...BLOQUE DE CODIGO 2\n",
    "```\n",
    "\n",
    "Esta \"decision\" la toma el computador al evaluar la condicion dada como parametro, ejecutando el bloque de codigo dentro del if si el resultado de la evaluacion es verdadera, por el contrario ejecuta (si lo hay) el codigo que este contenido dentro del else.\n",
    "\n",
    "Las estructuras condicionales pueden contar con mas de una condicion concatenada, donde se evalua la primera condicion si esta es falsa se evalua la segunda condicion, esto hasta ejecutar una condicion o por el contrario seguir con el resto del codigo.\n",
    "\n",
    "```\n",
    "if CONDICION_1:\n",
    "  ...BLOQUE DE CODIGO 1\n",
    "\n",
    "elif CONDICION_2:\n",
    "  ...BLOQUE DE CODIGO 2\n",
    "\n",
    "elif CONDICION_N:\n",
    "  ...BLOQUE DE CODIGO N\n",
    "\n",
    "else:\n",
    "  ...BLOQUE DE CODIGO SI NINGUNA CONDICION ES VERDADERA\n",
    "```\n"
   ],
   "metadata": {
    "id": "7sS_LJ_6EVrP",
    "pycharm": {
     "name": "#%% md\n"
    }
   }
  }
 ]
}