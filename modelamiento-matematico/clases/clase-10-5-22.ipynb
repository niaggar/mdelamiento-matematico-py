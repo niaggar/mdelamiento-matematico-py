{
 "nbformat": 4,
 "nbformat_minor": 0,
 "metadata": {
  "colab": {
   "name": "clase-10-5-22.ipynb",
   "provenance": [],
   "authorship_tag": "ABX9TyMW/tzaMpmeOsRFYnswdLnB"
  },
  "kernelspec": {
   "name": "python3",
   "display_name": "Python 3"
  },
  "language_info": {
   "name": "python"
  }
 },
 "cells": [
  {
   "cell_type": "markdown",
   "source": [
    "# Introduccion a numpy\n",
    "\n",
    "Dentro de los modulos presentes en python se encuentra numpy, la cuel es bastante util \n"
   ],
   "metadata": {
    "id": "lC_iSSscCLoH",
    "pycharm": {
     "name": "#%% md\n"
    }
   }
  },
  {
   "cell_type": "code",
   "source": [
    "import numpy as np\n",
    "import matplotlib.pyplot as plt"
   ],
   "metadata": {
    "id": "dkRY8BFsKSeP",
    "executionInfo": {
     "status": "ok",
     "timestamp": 1652189376950,
     "user_tz": 300,
     "elapsed": 376,
     "user": {
      "displayName": "NICOLAS AGUILERA GARCIA",
      "userId": "17651798345598548739"
     }
    },
    "pycharm": {
     "name": "#%%\n"
    }
   },
   "execution_count": 1,
   "outputs": []
  },
  {
   "cell_type": "code",
   "source": [
    "divisiones = 100\n",
    "\n",
    "xSin = np.linspace(0, 2 * np.pi, divisiones)\n",
    "ySin = np.sin(xSin)     # Automaticamente evalua el sin de todos los x de la lista\n",
    "\n",
    "# plt.plot(xSin, ySin, \"ro\")\n",
    "plt.plot(xSin, ySin, color=\"r\", label=\"sinx\")\n",
    "\n",
    "xCos = np.linspace(0, 2 * np.pi, divisiones)\n",
    "yCos = np.cos(xSin)\n",
    "\n",
    "# plt.plot(xCos, yCos, \"bo\")\n",
    "plt.plot(xCos, yCos, color=\"b\", label=\"cosx\")\n",
    "\n",
    "plt.legend()\n",
    "plt.show()\n"
   ],
   "metadata": {
    "colab": {
     "base_uri": "https://localhost:8080/",
     "height": 265
    },
    "id": "3DTKVMeJCKJn",
    "executionInfo": {
     "status": "ok",
     "timestamp": 1652189978876,
     "user_tz": 300,
     "elapsed": 320,
     "user": {
      "displayName": "NICOLAS AGUILERA GARCIA",
      "userId": "17651798345598548739"
     }
    },
    "outputId": "c88cceb8-b37d-4039-a9b4-1e41825e7be9",
    "pycharm": {
     "name": "#%%\n"
    }
   },
   "execution_count": 2,
   "outputs": [
    {
     "data": {
      "text/plain": "<Figure size 432x288 with 1 Axes>",
      "image/png": "[encoded data removed]"
     },
     "metadata": {
      "needs_background": "light"
     },
     "output_type": "display_data"
    }
   ]
  },
  {
   "cell_type": "code",
   "source": [
    "# Arreglos en np solo pueden contener numeros y se comportaran operacionalmente\n",
    "# vectores\n",
    "arreglo = np.array([1, 2, 3, 5])\n",
    "\n",
    "arreglo * arreglo         # Producto termino a termino\n",
    "arreglo @ arreglo         # Producto punto entre los vectores\n",
    "np.dot(arreglo, arreglo)  # Producto punto\n"
   ],
   "metadata": {
    "colab": {
     "base_uri": "https://localhost:8080/"
    },
    "id": "2E2fbHwLF2VD",
    "executionInfo": {
     "status": "ok",
     "timestamp": 1652189814977,
     "user_tz": 300,
     "elapsed": 266,
     "user": {
      "displayName": "NICOLAS AGUILERA GARCIA",
      "userId": "17651798345598548739"
     }
    },
    "outputId": "8152201e-effc-4150-9466-b65a10832d4e",
    "pycharm": {
     "name": "#%%\n"
    }
   },
   "execution_count": 3,
   "outputs": [
    {
     "data": {
      "text/plain": "39"
     },
     "execution_count": 3,
     "metadata": {},
     "output_type": "execute_result"
    }
   ]
  },
  {
   "cell_type": "code",
   "source": [
    "# Guardado de datos\n",
    "c = np.column_stack(( arreglo, arreglo ))\n",
    "print(c)"
   ],
   "metadata": {
    "colab": {
     "base_uri": "https://localhost:8080/"
    },
    "id": "AFxJoY-wLRW1",
    "executionInfo": {
     "status": "ok",
     "timestamp": 1652190713401,
     "user_tz": 300,
     "elapsed": 455,
     "user": {
      "displayName": "NICOLAS AGUILERA GARCIA",
      "userId": "17651798345598548739"
     }
    },
    "outputId": "5cf2c73b-ee09-4dc6-d238-e94ba2f65b95",
    "pycharm": {
     "name": "#%%\n"
    }
   },
   "execution_count": 4,
   "outputs": [
    {
     "name": "stdout",
     "output_type": "stream",
     "text": [
      "[[1 1]\n",
      " [2 2]\n",
      " [3 3]\n",
      " [5 5]]\n"
     ]
    }
   ]
  },
  {
   "cell_type": "code",
   "source": [
    "! ls"
   ],
   "metadata": {
    "colab": {
     "base_uri": "https://localhost:8080/"
    },
    "id": "G3jXIx37PZBG",
    "executionInfo": {
     "status": "ok",
     "timestamp": 1652190952273,
     "user_tz": 300,
     "elapsed": 354,
     "user": {
      "displayName": "NICOLAS AGUILERA GARCIA",
      "userId": "17651798345598548739"
     }
    },
    "outputId": "38e15d50-519f-44d6-f34d-9a9921275c6a",
    "pycharm": {
     "name": "#%%\n"
    }
   },
   "execution_count": 5,
   "outputs": [
    {
     "name": "stderr",
     "output_type": "stream",
     "text": [
      "\"ls\" no se reconoce como un comando interno o externo,\n",
      "programa o archivo por lotes ejecutable.\n"
     ]
    }
   ]
  },
  {
   "cell_type": "code",
   "source": [
    "! tree"
   ],
   "metadata": {
    "colab": {
     "base_uri": "https://localhost:8080/"
    },
    "id": "1E7Kw5-BQTUL",
    "executionInfo": {
     "status": "ok",
     "timestamp": 1652191008712,
     "user_tz": 300,
     "elapsed": 355,
     "user": {
      "displayName": "NICOLAS AGUILERA GARCIA",
      "userId": "17651798345598548739"
     }
    },
    "outputId": "3f64cf40-e015-4c0d-c6e8-df158d3bc55d",
    "pycharm": {
     "name": "#%%\n"
    }
   },
   "execution_count": 6,
   "outputs": [
    {
     "name": "stdout",
     "output_type": "stream",
     "text": [
      "Listado de rutas de carpetas\n",
      "El n£mero de serie del volumen es D60F-80D0\n",
      "C:.\n",
      "No existe ninguna subcarpeta \n",
      "\n"
     ]
    }
   ]
  },
  {
   "cell_type": "code",
   "source": [],
   "metadata": {
    "id": "bFX3oEiwQhTc",
    "pycharm": {
     "name": "#%%\n"
    }
   },
   "execution_count": null,
   "outputs": []
  }
 ]
}