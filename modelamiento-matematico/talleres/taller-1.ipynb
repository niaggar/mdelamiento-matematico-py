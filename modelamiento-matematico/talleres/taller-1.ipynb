{
 "cells": [
  {
   "cell_type": "code",
   "execution_count": 1,
   "metadata": {
    "colab": {
     "base_uri": "https://localhost:8080/"
    },
    "executionInfo": {
     "elapsed": 282,
     "status": "ok",
     "timestamp": 1650990697735,
     "user": {
      "displayName": "NICOLAS AGUILERA GARCIA",
      "userId": "17651798345598548739"
     },
     "user_tz": 300
    },
    "id": "_TsjcKyqyf4r",
    "outputId": "67dd3bdc-61b7-4ec7-a7d2-da7e0bc30dd9"
   },
   "outputs": [
    {
     "name": "stdout",
     "output_type": "stream",
     "text": [
      "El numero dado es primo:  True\n"
     ]
    }
   ],
   "source": [
    "L = 0\n",
    "lista = list(range(2, L))\n",
    "\n",
    "esPrimo = True\n",
    "for numero in lista:\n",
    "  if (L % numero) == 0:\n",
    "    esPrimo = False\n",
    "\n",
    "print(\"El numero dado es primo: \", esPrimo)\n"
   ]
  },
  {
   "cell_type": "code",
   "execution_count": 2,
   "metadata": {
    "colab": {
     "base_uri": "https://localhost:8080/"
    },
    "executionInfo": {
     "elapsed": 5,
     "status": "ok",
     "timestamp": 1650991245104,
     "user": {
      "displayName": "NICOLAS AGUILERA GARCIA",
      "userId": "17651798345598548739"
     },
     "user_tz": 300
    },
    "id": "aZwI5BCns3v9",
    "outputId": "c5257154-3a07-4e64-86bf-a5b628e44570"
   },
   "outputs": [
    {
     "name": "stdout",
     "output_type": "stream",
     "text": [
      "no es primo\n"
     ]
    }
   ],
   "source": [
    "a = 6\n",
    "divisores = 0\n",
    "lista = list(range(1, a + 1))\n",
    "\n",
    "for numero in lista:\n",
    "  if (a % numero) == 0:\n",
    "    divisores += 1\n",
    "\n",
    "if divisores <= 2:\n",
    "  print(\"es primo\")\n",
    "else:\n",
    "  print(\"no es primo\")\n"
   ]
  },
  {
   "cell_type": "code",
   "execution_count": null,
   "metadata": {
    "id": "DplNrAXRvblA"
   },
   "outputs": [],
   "source": []
  }
 ],
 "metadata": {
  "colab": {
   "authorship_tag": "ABX9TyNDh2FFGc96PRQAAjYJhGLx",
   "name": "Untitled0.ipynb",
   "provenance": []
  },
  "kernelspec": {
   "display_name": "Python 3.10.4 64-bit",
   "language": "python",
   "name": "python3"
  },
  "language_info": {
   "codemirror_mode": {
    "name": "ipython",
    "version": 3
   },
   "file_extension": ".py",
   "mimetype": "text/x-python",
   "name": "python",
   "nbconvert_exporter": "python",
   "pygments_lexer": "ipython3",
   "version": "3.10.4"
  },
  "vscode": {
   "interpreter": {
    "hash": "916dbcbb3f70747c44a77c7bcd40155683ae19c65e1c03b4aa3499c5328201f1"
   }
  }
 },
 "nbformat": 4,
 "nbformat_minor": 0
}
