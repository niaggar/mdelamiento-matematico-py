{
 "nbformat": 4,
 "nbformat_minor": 0,
 "metadata": {
  "colab": {
   "name": "taller-9-28-jun.ipynb",
   "provenance": []
  },
  "kernelspec": {
   "name": "python3",
   "display_name": "Python 3"
  },
  "language_info": {
   "name": "python"
  }
 },
 "cells": [
  {
   "cell_type": "markdown",
   "source": [
    "Nicolas Aguilera 2127303"
   ],
   "metadata": {
    "id": "cNiNC_8ikpJ4",
    "pycharm": {
     "name": "#%% md\n"
    }
   }
  },
  {
   "cell_type": "code",
   "source": [
    "import numpy as np\n",
    "import matplotlib.pyplot as plt\n"
   ],
   "metadata": {
    "id": "JVdUgE08UyHM",
    "pycharm": {
     "name": "#%%\n"
    }
   },
   "execution_count": 1,
   "outputs": []
  },
  {
   "cell_type": "code",
   "execution_count": 2,
   "metadata": {
    "colab": {
     "base_uri": "https://localhost:8080/",
     "height": 276
    },
    "id": "OefQG0p5UK-4",
    "executionInfo": {
     "status": "ok",
     "timestamp": 1658014990018,
     "user_tz": 300,
     "elapsed": 359,
     "user": {
      "displayName": "SEBASTIAN GOMEZ AMAYA",
      "userId": "02624794555625498512"
     }
    },
    "outputId": "5ddf1ed5-ca8a-4c62-cc0e-918ed2cbfa79",
    "pycharm": {
     "name": "#%%\n"
    }
   },
   "outputs": [
    {
     "data": {
      "text/plain": "<Figure size 432x288 with 1 Axes>",
      "image/png": "[encoded data removed]"
     },
     "metadata": {
      "needs_background": "light"
     },
     "output_type": "display_data"
    }
   ],
   "source": [
    "# Solucion utilizando ciclo for\n",
    "\n",
    "# Definicion de variables  necesarias\n",
    "N_incial = 10E5\n",
    "c_decaimiento = 0.05\n",
    "dt = 0.01\n",
    "tiempos = np.arange(0, 4 * 60, dt)\n",
    "\n",
    "\n",
    "res = [] # Lista donde se guardaran los puntos N\n",
    "ni = N_incial\n",
    "\n",
    "for t in tiempos:\n",
    "  res.append(ni)\n",
    "\n",
    "  # Calculo del metodo de euler\n",
    "  n = ni + dt *(-c_decaimiento * ni)\n",
    "  ni = n\n",
    "\n",
    "# Grafico de la funcion\n",
    "plt.plot(tiempos, res,\"-b\")\n",
    "plt.show()"
   ]
  },
  {
   "cell_type": "code",
   "source": [
    "# Solucion utilizando ciclo while\n",
    "\n",
    "# Definicion de variables  necesarias\n",
    "N_incial = 10E5\n",
    "c_decaimiento = 0.05\n",
    "dt = 0.01\n",
    "t = np.arange(0, 4 * 60, dt)\n",
    "numero_datos = len(t)\n",
    "\n",
    "\n",
    "# Definicion de la funcion a trabajar\n",
    "def f(t, ni):\n",
    "  return - c_decaimiento * ni\n",
    "\n",
    "\n",
    "\n",
    "# Creacion de la lista en ceros de igual longitud que t, en donde se contendra\n",
    "# los valores calculados \n",
    "y = np.zeros_like(t)\n",
    "y[0] = N_incial\n",
    "\n",
    "\n",
    "\n",
    "# Ciclo que calculara los valores de y para todos los t dados\n",
    "i = 0 # Variable auxiliar que hara de contador\n",
    "while (i < numero_datos - 1):\n",
    "  # Calculo del metodo de euler\n",
    "  y[i + 1] = y[i] + f(t[i], y[i]) * dt\n",
    "  i += 1\n",
    "\n",
    "\n",
    "\n",
    "# Grafico de la funcion\n",
    "plt.plot(t, y, \"-b\")\n",
    "plt.show()"
   ],
   "metadata": {
    "colab": {
     "base_uri": "https://localhost:8080/",
     "height": 276
    },
    "id": "wCK2ELDXUdTl",
    "executionInfo": {
     "status": "ok",
     "timestamp": 1658015003774,
     "user_tz": 300,
     "elapsed": 573,
     "user": {
      "displayName": "SEBASTIAN GOMEZ AMAYA",
      "userId": "02624794555625498512"
     }
    },
    "outputId": "be8d3c84-4365-4bd4-dd09-7ca90c8cae34",
    "pycharm": {
     "name": "#%%\n"
    }
   },
   "execution_count": 3,
   "outputs": [
    {
     "data": {
      "text/plain": "<Figure size 432x288 with 1 Axes>",
      "image/png": "[encoded data removed]"
     },
     "metadata": {
      "needs_background": "light"
     },
     "output_type": "display_data"
    }
   ]
  },
  {
   "cell_type": "code",
   "source": [],
   "metadata": {
    "id": "Blj1n7QLgDzz",
    "pycharm": {
     "name": "#%%\n"
    }
   },
   "execution_count": null,
   "outputs": []
  }
 ]
}