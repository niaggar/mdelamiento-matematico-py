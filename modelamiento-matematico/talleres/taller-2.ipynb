{
 "cells": [
  {
   "cell_type": "markdown",
   "metadata": {},
   "source": [
    "## Actividad\n",
    "\n",
    "Realice un programa que verifique si un cierto número entero dado es o no primo. También debe de hacer el respectivo diagrama de flujo del programa."
   ]
  },
  {
   "cell_type": "code",
   "execution_count": 1,
   "metadata": {},
   "outputs": [
    {
     "name": "stdout",
     "output_type": "stream",
     "text": [
      "5 es un numero primo\n"
     ]
    }
   ],
   "source": [
    "a = int(input(\"Numero a comprobar: \"))\n",
    "\n",
    "divisores = []\n",
    "for i in range(1, a + 1):\n",
    "    modulo = a % i\n",
    "    if (modulo == 0):\n",
    "        divisores.append(i)\n",
    "\n",
    "if (len(divisores) == 2):\n",
    "    print(f\"{a} es un numero primo\")\n",
    "else:\n",
    "    print(f\"{a} no es primo, tiene divisores: {divisores}\")"
   ]
  },
  {
   "cell_type": "code",
   "execution_count": null,
   "outputs": [],
   "source": [],
   "metadata": {
    "collapsed": false
   }
  }
 ],
 "metadata": {
  "language_info": {
   "name": "python"
  },
  "orig_nbformat": 4
 },
 "nbformat": 4,
 "nbformat_minor": 2
}
